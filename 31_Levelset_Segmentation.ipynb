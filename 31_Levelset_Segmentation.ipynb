{
 "metadata": {
  "name": "",
  "signature": "sha256:c9c15d871a154fdb0d5e3bb79127305d96e56bbdefe8c131a9ffa0a18ca4d95b"
 },
 "nbformat": 3,
 "nbformat_minor": 0,
 "worksheets": [
  {
   "cells": [
    {
     "cell_type": "code",
     "collapsed": false,
     "input": [
      "import SimpleITK as sitk\n",
      "from myshow import myshow, myshow3d"
     ],
     "language": "python",
     "metadata": {},
     "outputs": [],
     "prompt_number": 1
    },
    {
     "cell_type": "code",
     "collapsed": false,
     "input": [
      "img_T1 = sitk.ReadImage(\"Data/nac-brain-atlas-1.0/volumes/A1_grayT1.nrrd\")\n",
      "img_T2 = sitk.ReadImage(\"Data/nac-brain-atlas-1.0/volumes/A1_grayT2.nrrd\")\n",
      "img_T1_255 = sitk.Cast(sitk.RescaleIntensity(img_T1), sitk.sitkUInt8)\n",
      "img_T1_255 = sitk.Cast(sitk.RescaleIntensity(img_T1), sitk.sitkUInt8)"
     ],
     "language": "python",
     "metadata": {},
     "outputs": [
      {
       "ename": "RuntimeError",
       "evalue": "Exception thrown in SimpleITK ReadImage: /scratch/dashboards/SimpleITK-OSX10.7-intel-pkg/SimpleITK/Code/IO/src/sitkImageReaderBase.cxx:50:\nsitk::ERROR: Unable to determine ImageIO reader for \"Data/nac-brain-atlas-1.0/volumes/A1_grayT1.nrrd\"",
       "output_type": "pyerr",
       "traceback": [
        "\u001b[0;31m---------------------------------------------------------------------------\u001b[0m\n\u001b[0;31mRuntimeError\u001b[0m                              Traceback (most recent call last)",
        "\u001b[0;32m<ipython-input-2-308fe7fc6158>\u001b[0m in \u001b[0;36m<module>\u001b[0;34m()\u001b[0m\n\u001b[0;32m----> 1\u001b[0;31m \u001b[0mimg_T1\u001b[0m \u001b[0;34m=\u001b[0m \u001b[0msitk\u001b[0m\u001b[0;34m.\u001b[0m\u001b[0mReadImage\u001b[0m\u001b[0;34m(\u001b[0m\u001b[0;34m\"Data/nac-brain-atlas-1.0/volumes/A1_grayT1.nrrd\"\u001b[0m\u001b[0;34m)\u001b[0m\u001b[0;34m\u001b[0m\u001b[0m\n\u001b[0m\u001b[1;32m      2\u001b[0m \u001b[0mimg_T2\u001b[0m \u001b[0;34m=\u001b[0m \u001b[0msitk\u001b[0m\u001b[0;34m.\u001b[0m\u001b[0mReadImage\u001b[0m\u001b[0;34m(\u001b[0m\u001b[0;34m\"Data/nac-brain-atlas-1.0/volumes/A1_grayT2.nrrd\"\u001b[0m\u001b[0;34m)\u001b[0m\u001b[0;34m\u001b[0m\u001b[0m\n\u001b[1;32m      3\u001b[0m \u001b[0mimg_T1_255\u001b[0m \u001b[0;34m=\u001b[0m \u001b[0msitk\u001b[0m\u001b[0;34m.\u001b[0m\u001b[0mCast\u001b[0m\u001b[0;34m(\u001b[0m\u001b[0msitk\u001b[0m\u001b[0;34m.\u001b[0m\u001b[0mRescaleIntensity\u001b[0m\u001b[0;34m(\u001b[0m\u001b[0mimg_T1\u001b[0m\u001b[0;34m)\u001b[0m\u001b[0;34m,\u001b[0m \u001b[0msitk\u001b[0m\u001b[0;34m.\u001b[0m\u001b[0msitkUInt8\u001b[0m\u001b[0;34m)\u001b[0m\u001b[0;34m\u001b[0m\u001b[0m\n\u001b[1;32m      4\u001b[0m \u001b[0mimg_T1_255\u001b[0m \u001b[0;34m=\u001b[0m \u001b[0msitk\u001b[0m\u001b[0;34m.\u001b[0m\u001b[0mCast\u001b[0m\u001b[0;34m(\u001b[0m\u001b[0msitk\u001b[0m\u001b[0;34m.\u001b[0m\u001b[0mRescaleIntensity\u001b[0m\u001b[0;34m(\u001b[0m\u001b[0mimg_T1\u001b[0m\u001b[0;34m)\u001b[0m\u001b[0;34m,\u001b[0m \u001b[0msitk\u001b[0m\u001b[0;34m.\u001b[0m\u001b[0msitkUInt8\u001b[0m\u001b[0;34m)\u001b[0m\u001b[0;34m\u001b[0m\u001b[0m\n",
        "\u001b[0;32m/Library/Python/2.7/site-packages/SimpleITK-0.8.0-py2.7-macosx-10.7-intel.egg/SimpleITK/SimpleITK.pyc\u001b[0m in \u001b[0;36mReadImage\u001b[0;34m(*args)\u001b[0m\n\u001b[1;32m   5117\u001b[0m \u001b[0;34m\u001b[0m\u001b[0m\n\u001b[1;32m   5118\u001b[0m     \"\"\"\n\u001b[0;32m-> 5119\u001b[0;31m   \u001b[0;32mreturn\u001b[0m \u001b[0m_SimpleITK\u001b[0m\u001b[0;34m.\u001b[0m\u001b[0mReadImage\u001b[0m\u001b[0;34m(\u001b[0m\u001b[0;34m*\u001b[0m\u001b[0margs\u001b[0m\u001b[0;34m)\u001b[0m\u001b[0;34m\u001b[0m\u001b[0m\n\u001b[0m\u001b[1;32m   5120\u001b[0m \u001b[0;32mclass\u001b[0m \u001b[0mHashImageFilter\u001b[0m\u001b[0;34m(\u001b[0m\u001b[0mProcessObject\u001b[0m\u001b[0;34m)\u001b[0m\u001b[0;34m:\u001b[0m\u001b[0;34m\u001b[0m\u001b[0m\n\u001b[1;32m   5121\u001b[0m     \"\"\"\n",
        "\u001b[0;31mRuntimeError\u001b[0m: Exception thrown in SimpleITK ReadImage: /scratch/dashboards/SimpleITK-OSX10.7-intel-pkg/SimpleITK/Code/IO/src/sitkImageReaderBase.cxx:50:\nsitk::ERROR: Unable to determine ImageIO reader for \"Data/nac-brain-atlas-1.0/volumes/A1_grayT1.nrrd\""
       ]
      }
     ],
     "prompt_number": 2
    },
    {
     "cell_type": "code",
     "collapsed": false,
     "input": [
      "sitk.Show(img_T1, title=\"T1\")"
     ],
     "language": "python",
     "metadata": {},
     "outputs": []
    },
    {
     "cell_type": "code",
     "collapsed": false,
     "input": [
      "idx = (106,116,141)\n",
      "pt = img_T1.TransformIndexToPhysicalPoint(idx)"
     ],
     "language": "python",
     "metadata": {},
     "outputs": []
    },
    {
     "cell_type": "code",
     "collapsed": false,
     "input": [
      "seg = sitk.Image(img_T1.GetSize(), sitk.sitkUInt8)\n",
      "seg.CopyInformation(img_T1)\n",
      "seg[idx] = 1\n",
      "seg = sitk.BinaryDilate(seg, 3)\n",
      "myshow3d(sitk.LabelOverlay(img_T1_255, seg), zslices=range(idx[2]-3, idx[2]+4, 3), dpi=30, title=\"Initial Seed\")"
     ],
     "language": "python",
     "metadata": {},
     "outputs": []
    },
    {
     "cell_type": "code",
     "collapsed": false,
     "input": [
      "stats = sitk.LabelStatisticsImageFilter()\n",
      "stats.Execute(img_T1, seg)\n",
      "print stats"
     ],
     "language": "python",
     "metadata": {},
     "outputs": []
    },
    {
     "cell_type": "code",
     "collapsed": false,
     "input": [
      "factor = 1.5\n",
      "lower_threshold = stats.GetMean(1)-factor*stats.GetSigma(1)\n",
      "upper_threshold = stats.GetMean(1)+factor*stats.GetSigma(1)"
     ],
     "language": "python",
     "metadata": {},
     "outputs": []
    },
    {
     "cell_type": "code",
     "collapsed": false,
     "input": [
      "init_ls = sitk.SignedMaurerDistanceMap(seg, insideIsPositive=True, useImageSpacing=True)"
     ],
     "language": "python",
     "metadata": {},
     "outputs": []
    },
    {
     "cell_type": "code",
     "collapsed": false,
     "input": [
      "lsFilter = sitk.ThresholdSegmentationLevelSetImageFilter()\n",
      "lsFilter.SetLowerThreshold(lower_threshold)\n",
      "lsFilter.SetUpperThreshold(upper_threshold)\n",
      "lsFilter.SetMaximumRMSError(0.02)\n",
      "lsFilter.SetNumberOfIterations(100)\n",
      "lsFilter.SetCurvatureScaling(1)\n",
      "lsFilter.SetPropagationScaling(1)\n",
      "lsFilter.ReverseExpansionDirectionOn()"
     ],
     "language": "python",
     "metadata": {},
     "outputs": []
    },
    {
     "cell_type": "code",
     "collapsed": false,
     "input": [
      "ls = lsFilter.Execute(init_ls, sitk.Cast(img_T1, sitk.sitkFloat32))\n",
      "print lsFilter\n"
     ],
     "language": "python",
     "metadata": {},
     "outputs": []
    },
    {
     "cell_type": "code",
     "collapsed": false,
     "input": [
      "zslice_offset = 4\n",
      "t = \"LevelSet after \"+str(lsFilter.GetNumberOfIterations())+\" iterations\"\n",
      "myshow3d(sitk.LabelOverlay(img_T1_255, ls > 0), zslices=range(idx[2]-zslice_offset,idx[2]+zslice_offset+1,zslice_offset), dpi=20, title=t)"
     ],
     "language": "python",
     "metadata": {},
     "outputs": []
    },
    {
     "cell_type": "code",
     "collapsed": false,
     "input": [
      "lsFilter.SetNumberOfIterations(25)\n",
      "img_T1f = sitk.Cast(img_T1, sitk.sitkFloat32)\n",
      "ls = init_ls\n",
      "niter = 0\n",
      "for i in range(0, 10):\n",
      "    ls = lsFilter.Execute(ls, img_T1f)\n",
      "    niter += lsFilter.GetNumberOfIterations()\n",
      "    t = \"LevelSet after \"+str(niter)+\" iterations and RMS \"+str(lsFilter.GetRMSChange())\n",
      "    fig = myshow3d(sitk.LabelOverlay(img_T1_255, ls > 0), zslices=range(idx[2]-zslice_offset,idx[2]+zslice_offset+1,zslice_offset), dpi=20, title=t)\n"
     ],
     "language": "python",
     "metadata": {},
     "outputs": []
    },
    {
     "cell_type": "code",
     "collapsed": false,
     "input": [],
     "language": "python",
     "metadata": {},
     "outputs": []
    }
   ],
   "metadata": {}
  }
 ]
}